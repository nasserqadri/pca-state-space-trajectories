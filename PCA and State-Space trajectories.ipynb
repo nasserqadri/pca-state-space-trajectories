{
 "cells": [
  {
   "cell_type": "code",
   "execution_count": 1,
   "id": "38563c00",
   "metadata": {},
   "outputs": [],
   "source": [
    "import numpy as np\n",
    "import matplotlib.pyplot as plt\n",
    "import pandas as pd\n",
    "import seaborn as sns\n",
    "from scipy.io import loadmat"
   ]
  },
  {
   "cell_type": "code",
   "execution_count": 2,
   "id": "d5e0b0f9",
   "metadata": {},
   "outputs": [
    {
     "ename": "FileNotFoundError",
     "evalue": "[Errno 2] No such file or directory: 'stateSpaceTrajectories\\\\ALMdata.mat'",
     "output_type": "error",
     "traceback": [
      "\u001b[1;31m---------------------------------------------------------------------------\u001b[0m",
      "\u001b[1;31mFileNotFoundError\u001b[0m                         Traceback (most recent call last)",
      "File \u001b[1;32m~\\miniconda3\\envs\\udemy-python-scientific-x\\Lib\\site-packages\\scipy\\io\\matlab\\_mio.py:39\u001b[0m, in \u001b[0;36m_open_file\u001b[1;34m(file_like, appendmat, mode)\u001b[0m\n\u001b[0;32m     38\u001b[0m \u001b[38;5;28;01mtry\u001b[39;00m:\n\u001b[1;32m---> 39\u001b[0m     \u001b[38;5;28;01mreturn\u001b[39;00m \u001b[38;5;28mopen\u001b[39m(file_like, mode), \u001b[38;5;28;01mTrue\u001b[39;00m\n\u001b[0;32m     40\u001b[0m \u001b[38;5;28;01mexcept\u001b[39;00m \u001b[38;5;167;01mOSError\u001b[39;00m \u001b[38;5;28;01mas\u001b[39;00m e:\n\u001b[0;32m     41\u001b[0m     \u001b[38;5;66;03m# Probably \"not found\"\u001b[39;00m\n",
      "\u001b[1;31mFileNotFoundError\u001b[0m: [Errno 2] No such file or directory: 'stateSpaceTrajectories\\\\ALMdata.mat'",
      "\nDuring handling of the above exception, another exception occurred:\n",
      "\u001b[1;31mFileNotFoundError\u001b[0m                         Traceback (most recent call last)",
      "Cell \u001b[1;32mIn[2], line 1\u001b[0m\n\u001b[1;32m----> 1\u001b[0m matdat \u001b[38;5;241m=\u001b[39m loadmat(\u001b[38;5;124m'\u001b[39m\u001b[38;5;124mstateSpaceTrajectories\u001b[39m\u001b[38;5;124m\\\u001b[39m\u001b[38;5;124mALMdata.mat\u001b[39m\u001b[38;5;124m'\u001b[39m)\n",
      "File \u001b[1;32m~\\miniconda3\\envs\\udemy-python-scientific-x\\Lib\\site-packages\\scipy\\io\\matlab\\_mio.py:225\u001b[0m, in \u001b[0;36mloadmat\u001b[1;34m(file_name, mdict, appendmat, **kwargs)\u001b[0m\n\u001b[0;32m     88\u001b[0m \u001b[38;5;124;03m\"\"\"\u001b[39;00m\n\u001b[0;32m     89\u001b[0m \u001b[38;5;124;03mLoad MATLAB file.\u001b[39;00m\n\u001b[0;32m     90\u001b[0m \n\u001b[1;32m   (...)\u001b[0m\n\u001b[0;32m    222\u001b[0m \u001b[38;5;124;03m    3.14159265+3.14159265j])\u001b[39;00m\n\u001b[0;32m    223\u001b[0m \u001b[38;5;124;03m\"\"\"\u001b[39;00m\n\u001b[0;32m    224\u001b[0m variable_names \u001b[38;5;241m=\u001b[39m kwargs\u001b[38;5;241m.\u001b[39mpop(\u001b[38;5;124m'\u001b[39m\u001b[38;5;124mvariable_names\u001b[39m\u001b[38;5;124m'\u001b[39m, \u001b[38;5;28;01mNone\u001b[39;00m)\n\u001b[1;32m--> 225\u001b[0m \u001b[38;5;28;01mwith\u001b[39;00m _open_file_context(file_name, appendmat) \u001b[38;5;28;01mas\u001b[39;00m f:\n\u001b[0;32m    226\u001b[0m     MR, _ \u001b[38;5;241m=\u001b[39m mat_reader_factory(f, \u001b[38;5;241m*\u001b[39m\u001b[38;5;241m*\u001b[39mkwargs)\n\u001b[0;32m    227\u001b[0m     matfile_dict \u001b[38;5;241m=\u001b[39m MR\u001b[38;5;241m.\u001b[39mget_variables(variable_names)\n",
      "File \u001b[1;32m~\\miniconda3\\envs\\udemy-python-scientific-x\\Lib\\contextlib.py:137\u001b[0m, in \u001b[0;36m_GeneratorContextManager.__enter__\u001b[1;34m(self)\u001b[0m\n\u001b[0;32m    135\u001b[0m \u001b[38;5;28;01mdel\u001b[39;00m \u001b[38;5;28mself\u001b[39m\u001b[38;5;241m.\u001b[39margs, \u001b[38;5;28mself\u001b[39m\u001b[38;5;241m.\u001b[39mkwds, \u001b[38;5;28mself\u001b[39m\u001b[38;5;241m.\u001b[39mfunc\n\u001b[0;32m    136\u001b[0m \u001b[38;5;28;01mtry\u001b[39;00m:\n\u001b[1;32m--> 137\u001b[0m     \u001b[38;5;28;01mreturn\u001b[39;00m \u001b[38;5;28mnext\u001b[39m(\u001b[38;5;28mself\u001b[39m\u001b[38;5;241m.\u001b[39mgen)\n\u001b[0;32m    138\u001b[0m \u001b[38;5;28;01mexcept\u001b[39;00m \u001b[38;5;167;01mStopIteration\u001b[39;00m:\n\u001b[0;32m    139\u001b[0m     \u001b[38;5;28;01mraise\u001b[39;00m \u001b[38;5;167;01mRuntimeError\u001b[39;00m(\u001b[38;5;124m\"\u001b[39m\u001b[38;5;124mgenerator didn\u001b[39m\u001b[38;5;124m'\u001b[39m\u001b[38;5;124mt yield\u001b[39m\u001b[38;5;124m\"\u001b[39m) \u001b[38;5;28;01mfrom\u001b[39;00m \u001b[38;5;28mNone\u001b[39m\n",
      "File \u001b[1;32m~\\miniconda3\\envs\\udemy-python-scientific-x\\Lib\\site-packages\\scipy\\io\\matlab\\_mio.py:17\u001b[0m, in \u001b[0;36m_open_file_context\u001b[1;34m(file_like, appendmat, mode)\u001b[0m\n\u001b[0;32m     15\u001b[0m \u001b[38;5;129m@contextmanager\u001b[39m\n\u001b[0;32m     16\u001b[0m \u001b[38;5;28;01mdef\u001b[39;00m \u001b[38;5;21m_open_file_context\u001b[39m(file_like, appendmat, mode\u001b[38;5;241m=\u001b[39m\u001b[38;5;124m'\u001b[39m\u001b[38;5;124mrb\u001b[39m\u001b[38;5;124m'\u001b[39m):\n\u001b[1;32m---> 17\u001b[0m     f, opened \u001b[38;5;241m=\u001b[39m _open_file(file_like, appendmat, mode)\n\u001b[0;32m     18\u001b[0m     \u001b[38;5;28;01mtry\u001b[39;00m:\n\u001b[0;32m     19\u001b[0m         \u001b[38;5;28;01myield\u001b[39;00m f\n",
      "File \u001b[1;32m~\\miniconda3\\envs\\udemy-python-scientific-x\\Lib\\site-packages\\scipy\\io\\matlab\\_mio.py:45\u001b[0m, in \u001b[0;36m_open_file\u001b[1;34m(file_like, appendmat, mode)\u001b[0m\n\u001b[0;32m     43\u001b[0m     \u001b[38;5;28;01mif\u001b[39;00m appendmat \u001b[38;5;129;01mand\u001b[39;00m \u001b[38;5;129;01mnot\u001b[39;00m file_like\u001b[38;5;241m.\u001b[39mendswith(\u001b[38;5;124m'\u001b[39m\u001b[38;5;124m.mat\u001b[39m\u001b[38;5;124m'\u001b[39m):\n\u001b[0;32m     44\u001b[0m         file_like \u001b[38;5;241m+\u001b[39m\u001b[38;5;241m=\u001b[39m \u001b[38;5;124m'\u001b[39m\u001b[38;5;124m.mat\u001b[39m\u001b[38;5;124m'\u001b[39m\n\u001b[1;32m---> 45\u001b[0m     \u001b[38;5;28;01mreturn\u001b[39;00m \u001b[38;5;28mopen\u001b[39m(file_like, mode), \u001b[38;5;28;01mTrue\u001b[39;00m\n\u001b[0;32m     46\u001b[0m \u001b[38;5;28;01melse\u001b[39;00m:\n\u001b[0;32m     47\u001b[0m     \u001b[38;5;28;01mraise\u001b[39;00m \u001b[38;5;167;01mOSError\u001b[39;00m(\n\u001b[0;32m     48\u001b[0m         \u001b[38;5;124m'\u001b[39m\u001b[38;5;124mReader needs file name or open file-like object\u001b[39m\u001b[38;5;124m'\u001b[39m\n\u001b[0;32m     49\u001b[0m     ) \u001b[38;5;28;01mfrom\u001b[39;00m \u001b[38;5;21;01me\u001b[39;00m\n",
      "\u001b[1;31mFileNotFoundError\u001b[0m: [Errno 2] No such file or directory: 'stateSpaceTrajectories\\\\ALMdata.mat'"
     ]
    }
   ],
   "source": [
    "matdat = loadmat('stateSpaceTrajectories\\ALMdata.mat')"
   ]
  },
  {
   "cell_type": "code",
   "execution_count": null,
   "id": "91dd5719",
   "metadata": {},
   "outputs": [],
   "source": [
    "non_preferred= matdat['PSTH_nonprefer_cue_aligned']\n",
    "preferred= matdat['PSTH_prefer_cue_aligned']\n",
    "t= matdat['t'][0]\n",
    "chanidx= matdat['Channel_all']\n",
    "\n",
    "# flatten column vector\n",
    "chanidx = chanidx.flatten()"
   ]
  },
  {
   "cell_type": "markdown",
   "id": "a0f5eb74",
   "metadata": {},
   "source": [
    "### Remove nulls"
   ]
  },
  {
   "cell_type": "code",
   "execution_count": null,
   "id": "2f484870",
   "metadata": {},
   "outputs": [],
   "source": [
    "non_preferred = non_preferred[np.isfinite(non_preferred[:,0]), :]\n",
    "chanidx = chanidx[np.isfinite(preferred[:,0])]\n",
    "\n",
    "preferred = preferred[np.isfinite(preferred[:,0]), :]\n"
   ]
  },
  {
   "cell_type": "code",
   "execution_count": null,
   "id": "086a3533",
   "metadata": {},
   "outputs": [],
   "source": [
    "fig, ax = plt.subplots(1,2, figsize=(10,6))\n",
    "ax[0].imshow(non_preferred,extent=[t[0], t[-1], 0, non_preferred.shape[0]], \n",
    "             vmin=0, vmax=10,origin='lower')\n",
    "ax[0].set_aspect(1/ax[0].get_data_ratio())\n",
    "ax[0].set_xlabel('Time (s)')\n",
    "ax[0].set_ylabel('Trial/channels')\n",
    "ax[0].set_title('Non-preferred')\n",
    "\n",
    "ax[1].imshow(preferred,extent=[t[0], t[-1], 0, preferred.shape[0]],\n",
    "             vmin=0, vmax=10,\n",
    "             origin='lower'\n",
    "            )\n",
    "ax[1].set_aspect(1/ax[0].get_data_ratio())\n",
    "ax[1].set_xlabel('Time (s)')\n",
    "ax[1].set_ylabel('Trial/channels')\n",
    "ax[1].set_title('Preferred')\n",
    "\n",
    "plt.show()"
   ]
  },
  {
   "cell_type": "code",
   "execution_count": null,
   "id": "b2933412",
   "metadata": {},
   "outputs": [],
   "source": [
    "plt.plot(t, non_preferred.T)\n",
    "plt.show()"
   ]
  },
  {
   "cell_type": "code",
   "execution_count": null,
   "id": "770cc85b",
   "metadata": {},
   "outputs": [],
   "source": [
    "plt.plot(t, np.mean(non_preferred, axis=0), label='Nonpreferrd')\n",
    "plt.plot(t, np.mean(preferred, axis=0), label='preferred')\n",
    "plt.legend()\n",
    "plt.show()"
   ]
  },
  {
   "cell_type": "markdown",
   "id": "6dbb3029",
   "metadata": {},
   "source": [
    "### Covariance matrix"
   ]
  },
  {
   "cell_type": "code",
   "execution_count": null,
   "id": "9fb836a7",
   "metadata": {},
   "outputs": [],
   "source": [
    "# create a new data matrix, averaging across channels\n",
    "\n",
    "nchans = np.max(chanidx)\n",
    "chan_avg_non_preferred = np.zeros((nchans, len(t)))\n",
    "chan_avg_preferred = np.zeros((nchans, len(t)))\n",
    "\n",
    "\n",
    "for i in range(1, nchans+1):\n",
    "    chan_avg_non_preferred[i-1,:] = np.mean(non_preferred[chanidx==i, :], axis=0)\n",
    "    chan_avg_preferred[i-1,:] = np.mean(preferred[chanidx==i, :], axis=0)\n",
    "    "
   ]
  },
  {
   "cell_type": "code",
   "execution_count": null,
   "id": "1fa330c8",
   "metadata": {},
   "outputs": [],
   "source": [
    "fig, ax = plt.subplots(1,2, figsize=(10,6))\n",
    "ax[0].imshow(chan_avg_non_preferred,extent=[t[0], t[-1], 0, nchans], \n",
    "             vmin=0, vmax=10,origin='lower')\n",
    "ax[0].set_aspect(1/ax[0].get_data_ratio())\n",
    "ax[0].set_xlabel('Time (s)')\n",
    "ax[0].set_ylabel('Channels')\n",
    "ax[0].set_title('Non-preferred')\n",
    "\n",
    "ax[1].imshow(chan_avg_preferred,extent=[t[0], t[-1], 0, nchans],\n",
    "             vmin=0, vmax=10,\n",
    "             origin='lower'\n",
    "            )\n",
    "ax[1].set_aspect(1/ax[0].get_data_ratio())\n",
    "ax[1].set_xlabel('Time (s)')\n",
    "ax[1].set_ylabel('Channels')\n",
    "ax[1].set_title('Preferred')\n",
    "\n",
    "plt.show()"
   ]
  },
  {
   "cell_type": "code",
   "execution_count": null,
   "id": "f3bc7cae",
   "metadata": {},
   "outputs": [],
   "source": [
    "# compute covariange matrix\n",
    "\n",
    "covmat_non_preferred = np.cov(chan_avg_non_preferred)\n",
    "covmat_preferred = np.cov(chan_avg_preferred)\n",
    "\n",
    "covmat_average =( covmat_non_preferred + covmat_preferred)/2\n",
    "plt.imshow(covmat_average)\n",
    "plt.xlabel('Channels')\n",
    "plt.ylabel('Channels')\n",
    "plt.show()"
   ]
  },
  {
   "cell_type": "markdown",
   "id": "99556a90",
   "metadata": {},
   "source": [
    "### PCA "
   ]
  },
  {
   "cell_type": "code",
   "execution_count": null,
   "id": "3dffce92",
   "metadata": {},
   "outputs": [],
   "source": [
    "evals, evecs = np.linalg.eigh(covmat_average)\n",
    "\n",
    "# reverse sort...descending order\n",
    "sort_index = np.argsort(evals)[::-1]\n",
    "evals = evals[sort_index]\n",
    "evecs = evecs[:, sort_index]\n",
    "\n",
    "plt.plot(evals, 'ko', markerfacecolor='w', markersize=12)\n",
    "plt.xlabel('Components')\n",
    "plt.ylabel('$\\lambda$')\n",
    "plt.title('Scree Plot')\n",
    "plt.show()"
   ]
  },
  {
   "cell_type": "code",
   "execution_count": null,
   "id": "f9d38110",
   "metadata": {},
   "outputs": [],
   "source": [
    "for i in range(2):\n",
    "    # find the largest component magnitude\n",
    "    max_indx = np.argmax(abs(evecs[:,i]))\n",
    "    evecs[:,i] *= np.sign(evecs[max_indx, i])\n",
    "    \n",
    "    \n",
    "# Compute PC Time series using matrix multiplication\n",
    "pc_non_preferred = evecs[:, 0:2].T @ chan_avg_non_preferred\n",
    "pc_preferred = evecs[:, 0:2].T @ chan_avg_preferred\n",
    "\n",
    "plt.plot(t,pc_non_preferred.T, t, pc_preferred.T)\n",
    "plt.legend(['Nonpref component1', 'Nonpref component2', 'Pref component1', 'Pref component2'])\n",
    "plt.show()\n"
   ]
  },
  {
   "cell_type": "code",
   "execution_count": null,
   "id": "b436a8f9",
   "metadata": {},
   "outputs": [],
   "source": [
    "plt.plot(pc_preferred[0,:], pc_preferred[1,:])\n",
    "plt.plot(pc_non_preferred[0,:], pc_non_preferred[1,:])\n",
    "\n",
    "plt.show()"
   ]
  }
 ],
 "metadata": {
  "kernelspec": {
   "display_name": "Python 3 (ipykernel)",
   "language": "python",
   "name": "python3"
  },
  "language_info": {
   "codemirror_mode": {
    "name": "ipython",
    "version": 3
   },
   "file_extension": ".py",
   "mimetype": "text/x-python",
   "name": "python",
   "nbconvert_exporter": "python",
   "pygments_lexer": "ipython3",
   "version": "3.11.3"
  }
 },
 "nbformat": 4,
 "nbformat_minor": 5
}
