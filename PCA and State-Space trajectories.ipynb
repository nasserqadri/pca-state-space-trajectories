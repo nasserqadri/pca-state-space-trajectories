{
 "cells": [
  {
   "cell_type": "code",
   "execution_count": 1,
   "id": "38563c00",
   "metadata": {},
   "outputs": [],
   "source": [
    "import numpy as np\n",
    "import matplotlib.pyplot as plt\n",
    "import pandas as pd\n",
    "import seaborn as sns\n",
    "from scipy.io import loadmat"
   ]
  },
  {
   "cell_type": "code",
   "execution_count": 2,
   "id": "d5e0b0f9",
   "metadata": {},
   "outputs": [],
   "source": [
    "matdat = loadmat('ALMdata.mat')"
   ]
  },
  {
   "cell_type": "code",
   "execution_count": 3,
   "id": "91dd5719",
   "metadata": {},
   "outputs": [],
   "source": [
    "non_preferred= matdat['PSTH_nonprefer_cue_aligned']\n",
    "preferred= matdat['PSTH_prefer_cue_aligned']\n",
    "t= matdat['t'][0]\n",
    "chanidx= matdat['Channel_all']\n",
    "\n",
    "# flatten column vector\n",
    "chanidx = chanidx.flatten()"
   ]
  },
  {
   "cell_type": "markdown",
   "id": "a0f5eb74",
   "metadata": {},
   "source": [
    "### Remove nulls"
   ]
  },
  {
   "cell_type": "code",
   "execution_count": 4,
   "id": "2f484870",
   "metadata": {},
   "outputs": [],
   "source": [
    "non_preferred = non_preferred[np.isfinite(non_preferred[:,0]), :]\n",
    "chanidx = chanidx[np.isfinite(preferred[:,0])]\n",
    "\n",
    "preferred = preferred[np.isfinite(preferred[:,0]), :]\n"
   ]
  },
  {
   "cell_type": "code",
   "execution_count": 5,
   "id": "086a3533",
   "metadata": {},
   "outputs": [],
   "source": [
    "fig, ax = plt.subplots(1,2, figsize=(10,6))\n",
    "ax[0].imshow(non_preferred,extent=[t[0], t[-1], 0, non_preferred.shape[0]], \n",
    "             vmin=0, vmax=10,origin='lower')\n",
    "ax[0].set_aspect(1/ax[0].get_data_ratio())\n",
    "ax[0].set_xlabel('Time (s)')\n",
    "ax[0].set_ylabel('Trial/channels')\n",
    "ax[0].set_title('Non-preferred')\n",
    "\n",
    "ax[1].imshow(preferred,extent=[t[0], t[-1], 0, preferred.shape[0]],\n",
    "             vmin=0, vmax=10,\n",
    "             origin='lower'\n",
    "            )\n",
    "ax[1].set_aspect(1/ax[0].get_data_ratio())\n",
    "ax[1].set_xlabel('Time (s)')\n",
    "ax[1].set_ylabel('Trial/channels')\n",
    "ax[1].set_title('Preferred')\n",
    "\n",
    "plt.show()"
   ]
  },
  {
   "cell_type": "code",
   "execution_count": 6,
   "id": "b2933412",
   "metadata": {},
   "outputs": [],
   "source": [
    "plt.plot(t, non_preferred.T)\n",
    "plt.show()"
   ]
  },
  {
   "cell_type": "code",
   "execution_count": 7,
   "id": "770cc85b",
   "metadata": {},
   "outputs": [],
   "source": [
    "plt.plot(t, np.mean(non_preferred, axis=0), label='Nonpreferrd')\n",
    "plt.plot(t, np.mean(preferred, axis=0), label='preferred')\n",
    "plt.legend()\n",
    "plt.show()"
   ]
  },
  {
   "cell_type": "markdown",
   "id": "6dbb3029",
   "metadata": {},
   "source": [
    "### Covariance matrix"
   ]
  },
  {
   "cell_type": "code",
   "execution_count": 8,
   "id": "9fb836a7",
   "metadata": {},
   "outputs": [],
   "source": [
    "# create a new data matrix, averaging across channels\n",
    "\n",
    "nchans = np.max(chanidx)\n",
    "chan_avg_non_preferred = np.zeros((nchans, len(t)))\n",
    "chan_avg_preferred = np.zeros((nchans, len(t)))\n",
    "\n",
    "\n",
    "for i in range(1, nchans+1):\n",
    "    chan_avg_non_preferred[i-1,:] = np.mean(non_preferred[chanidx==i, :], axis=0)\n",
    "    chan_avg_preferred[i-1,:] = np.mean(preferred[chanidx==i, :], axis=0)\n",
    "    "
   ]
  },
  {
   "cell_type": "code",
   "execution_count": 9,
   "id": "1fa330c8",
   "metadata": {},
   "outputs": [],
   "source": [
    "fig, ax = plt.subplots(1,2, figsize=(10,6))\n",
    "ax[0].imshow(chan_avg_non_preferred,extent=[t[0], t[-1], 0, nchans], \n",
    "             vmin=0, vmax=10,origin='lower')\n",
    "ax[0].set_aspect(1/ax[0].get_data_ratio())\n",
    "ax[0].set_xlabel('Time (s)')\n",
    "ax[0].set_ylabel('Channels')\n",
    "ax[0].set_title('Non-preferred')\n",
    "\n",
    "ax[1].imshow(chan_avg_preferred,extent=[t[0], t[-1], 0, nchans],\n",
    "             vmin=0, vmax=10,\n",
    "             origin='lower'\n",
    "            )\n",
    "ax[1].set_aspect(1/ax[0].get_data_ratio())\n",
    "ax[1].set_xlabel('Time (s)')\n",
    "ax[1].set_ylabel('Channels')\n",
    "ax[1].set_title('Preferred')\n",
    "\n",
    "plt.show()"
   ]
  },
  {
   "cell_type": "code",
   "execution_count": 10,
   "id": "f3bc7cae",
   "metadata": {},
   "outputs": [],
   "source": [
    "# compute covariange matrix\n",
    "\n",
    "covmat_non_preferred = np.cov(chan_avg_non_preferred)\n",
    "covmat_preferred = np.cov(chan_avg_preferred)\n",
    "\n",
    "covmat_average =( covmat_non_preferred + covmat_preferred)/2\n",
    "plt.imshow(covmat_average)\n",
    "plt.xlabel('Channels')\n",
    "plt.ylabel('Channels')\n",
    "plt.show()"
   ]
  },
  {
   "cell_type": "markdown",
   "id": "99556a90",
   "metadata": {},
   "source": [
    "### PCA "
   ]
  },
  {
   "cell_type": "code",
   "execution_count": 11,
   "id": "3dffce92",
   "metadata": {},
   "outputs": [],
   "source": [
    "evals, evecs = np.linalg.eigh(covmat_average)\n",
    "\n",
    "# reverse sort...descending order\n",
    "sort_index = np.argsort(evals)[::-1]\n",
    "evals = evals[sort_index]\n",
    "evecs = evecs[:, sort_index]\n",
    "\n",
    "plt.plot(evals, 'ko', markerfacecolor='w', markersize=12)\n",
    "plt.xlabel('Components')\n",
    "plt.ylabel('$\\lambda$')\n",
    "plt.title('Scree Plot')\n",
    "plt.show()"
   ]
  },
  {
   "cell_type": "code",
   "execution_count": 12,
   "id": "f9d38110",
   "metadata": {},
   "outputs": [],
   "source": [
    "for i in range(2):\n",
    "    # find the largest component magnitude\n",
    "    max_indx = np.argmax(abs(evecs[:,i]))\n",
    "    evecs[:,i] *= np.sign(evecs[max_indx, i])\n",
    "    \n",
    "    \n",
    "# Compute PC Time series using matrix multiplication\n",
    "pc_non_preferred = evecs[:, 0:2].T @ chan_avg_non_preferred\n",
    "pc_preferred = evecs[:, 0:2].T @ chan_avg_preferred\n",
    "\n",
    "plt.plot(t,pc_non_preferred.T, t, pc_preferred.T)\n",
    "plt.legend(['Nonpref component1', 'Nonpref component2', 'Pref component1', 'Pref component2'])\n",
    "plt.show()\n"
   ]
  },
  {
   "cell_type": "code",
   "execution_count": 13,
   "id": "b436a8f9",
   "metadata": {},
   "outputs": [],
   "source": [
    "plt.plot(pc_preferred[0,:], pc_preferred[1,:])\n",
    "plt.plot(pc_non_preferred[0,:], pc_non_preferred[1,:])\n",
    "\n",
    "plt.show()"
   ]
  }
 ],
 "metadata": {
  "kernelspec": {
   "display_name": "Python 3 (ipykernel)",
   "language": "python",
   "name": "python3"
  },
  "language_info": {
   "codemirror_mode": {
    "name": "ipython",
    "version": 3
   },
   "file_extension": ".py",
   "mimetype": "text/x-python",
   "name": "python",
   "nbconvert_exporter": "python",
   "pygments_lexer": "ipython3",
   "version": "3.11.3"
  }
 },
 "nbformat": 4,
 "nbformat_minor": 5
}
